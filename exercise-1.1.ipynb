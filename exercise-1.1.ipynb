{
 "cells": [
  {
   "cell_type": "code",
   "execution_count": 35,
   "metadata": {},
   "outputs": [],
   "source": [
    "import math\n",
    "\n",
    "def addition(x,y):\n",
    "    #input:x(int) and y(int)\n",
    "    #output:(int)\n",
    "    return (x+y)\n",
    "def subtraction(x,y):\n",
    "    #input:x(int) and y(int)\n",
    "    #output:(int)\n",
    "    return (x-y)\n",
    "\n",
    "def multiplication(x,y):\n",
    "    #input:x(int) and y(int)\n",
    "    #output:(float)\n",
    "    return float(x*y)\n",
    "\n",
    "def division(x,y):\n",
    "    #input:x(int) and y(int)\n",
    "    #output:(float)\n",
    "    return float(x/y)\n",
    "\n",
    "def square_root(x):\n",
    "    #input:x(int)\n",
    "    #output:(float)\n",
    "    return math.sqrt(x)\n",
    "\n",
    "def exponential(x,y):\n",
    "    #input:x(int) and y(int)\n",
    "    #output:(int)\n",
    "    return pow(x,y)\n",
    "    \n",
    "def operations_on_quadratic(c1,c2,c3):\n",
    "    print('to print quadratic of the form a*x^2 + b*x + c')\n",
    "        \n",
    "    coeff_list = [c1, c2, c3] #creation of list\n",
    "    \n",
    "    coeff_dict = {'a':c1, 'b':c2, 'c':c3} #creation of dictionary\n",
    "    \n",
    "    for i,coefficient in enumerate(coeff_list): #print the coefficients from list\n",
    "        print('coefficient ' + str(i+1) + ' is ' + str(coefficient))\n",
    "    \n",
    "    print(coeff_dict) #print the dictionary containing the coefficients\n",
    "    \n",
    "    print('the quadratic equation is ' + str(c1) +' x^2 + ' + str(c2) + ' x + ' + str(c3))\n",
    "    \n",
    "    print(\"the solution of this quadratic equation is \")\n",
    "    \n",
    "    print(' (' + str(-c2/(2*c1)) + ' +/- ' + str((square_root(exponential(c2,2) - 4 * multiplication(c1,c3)))/(2*c1)) + ')')"
   ]
  },
  {
   "cell_type": "code",
   "execution_count": null,
   "metadata": {},
   "outputs": [],
   "source": []
  }
 ],
 "metadata": {
  "kernelspec": {
   "display_name": "Python 3",
   "language": "python",
   "name": "python3"
  },
  "language_info": {
   "codemirror_mode": {
    "name": "ipython",
    "version": 3
   },
   "file_extension": ".py",
   "mimetype": "text/x-python",
   "name": "python",
   "nbconvert_exporter": "python",
   "pygments_lexer": "ipython3",
   "version": "3.7.6"
  }
 },
 "nbformat": 4,
 "nbformat_minor": 4
}
